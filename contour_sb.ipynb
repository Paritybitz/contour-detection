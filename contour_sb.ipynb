{
 "cells": [
  {
   "cell_type": "code",
   "execution_count": 1,
   "metadata": {},
   "outputs": [],
   "source": [
    "# imports\n",
    "import cv2\n",
    "import numpy as np"
   ]
  },
  {
   "cell_type": "code",
   "execution_count": 2,
   "metadata": {},
   "outputs": [],
   "source": [
    "def increase_contrast(img):\n",
    "    # Convert to LAB color space\n",
    "    lab = cv2.cvtColor(img, cv2.COLOR_BGR2LAB)\n",
    "    l, a, b = cv2.split(lab)\n",
    "    \n",
    "    # Apply CLAHE to the L-channel\n",
    "    clahe = cv2.createCLAHE(clipLimit=2.0, tileGridSize=(8, 8))\n",
    "    l = clahe.apply(l)\n",
    "    \n",
    "    # Merge the channels back\n",
    "    lab = cv2.merge((l, a, b))\n",
    "    enhanced_img = cv2.cvtColor(lab, cv2.COLOR_LAB2BGR)\n",
    "    \n",
    "    return enhanced_img"
   ]
  },
  {
   "cell_type": "code",
   "execution_count": 3,
   "metadata": {},
   "outputs": [],
   "source": [
    "def sharpen_image(img):\n",
    "    # Define a sharpening kernel\n",
    "    kernel = np.array([[0, -1, 0],\n",
    "                       [-1, 5,-1],\n",
    "                       [0, -1, 0]])\n",
    "    \n",
    "    # Apply the kernel to the image\n",
    "    sharpened_img = cv2.filter2D(img, -1, kernel)\n",
    "    \n",
    "    return sharpened_img"
   ]
  },
  {
   "cell_type": "code",
   "execution_count": 4,
   "metadata": {},
   "outputs": [],
   "source": [
    "def contours_of_image(img):\n",
    "    gray = cv2.cvtColor(img, cv2.COLOR_BGR2GRAY)\n",
    "\n",
    "    # Perform edge detection\n",
    "    edges = cv2.Canny(gray, 100, 200)\n",
    "    img= cv2.resize(img, (0, 0), fx = 2, fy = 2)\n",
    "    img = increase_contrast(img)\n",
    "    img = sharpen_image(img)\n",
    "\n",
    "    # Display the edges\n",
    "    cv2.imshow('Edges', edges)\n",
    "    cv2.waitKey(0)\n",
    "\n",
    "    # Apply dilation to the edges\n",
    "    kernel = np.ones((4, 4), np.uint8)\n",
    "    edges_dilated = cv2.dilate(edges, kernel, iterations=1)\n",
    "\n",
    "    # Display the dilated edges\n",
    "    cv2.imshow('Dilated Edges', edges_dilated)\n",
    "    cv2.waitKey(0)\n",
    "\n",
    "    # Apply Hough Circle Transform on the dilated edges\n",
    "    circles = cv2.HoughCircles(\n",
    "        edges_dilated,\n",
    "        cv2.HOUGH_GRADIENT,\n",
    "        dp=1,\n",
    "        minDist=30,\n",
    "        param1=25,\n",
    "        param2=10,\n",
    "        minRadius=1,\n",
    "        maxRadius=30\n",
    "    )\n",
    "\n",
    "    # If circles are detected\n",
    "    if circles is not None:\n",
    "        circles = np.uint16(np.around(circles))\n",
    "        for i in circles[0, :]:\n",
    "            # Draw the outer circle\n",
    "            cv2.circle(img, (i[0], i[1]), i[2], (0, 255, 0), 2)\n",
    "            # Draw the center of the circle\n",
    "            cv2.circle(img, (i[0], i[1]), 2, (0, 0, 255), 3)\n",
    "\n",
    "    # Display the final image with detected circles\n",
    "    cv2.imshow('Detected Circles', img)\n",
    "    cv2.waitKey(0)\n",
    "    cv2.destroyAllWindows()"
   ]
  },
  {
   "cell_type": "code",
   "execution_count": 5,
   "metadata": {},
   "outputs": [],
   "source": [
    "# Load an example image\n",
    "# img = cv2.imread('C:/Users/alimo/OneDrive/Documents/FRT/Contour Detection (Basketball)/contour-detection/Ballogy False Positive Images/sample.jpg')\n",
    "img = cv2.imread('C:/Users/alimo/OneDrive/Documents/FRT/Contour Detection (Basketball)/contour-detection/Ballogy False Positive Images/ball_test35.png')\n",
    "img= cv2.resize(img, (0, 0), fx = 2, fy = 2)\n",
    "\n",
    "# Check if the image was loaded successfully\n",
    "if img is not None:\n",
    "    contours_of_image(img)\n",
    "else:\n",
    "    print(\"Error loading image.\")"
   ]
  },
  {
   "cell_type": "code",
   "execution_count": null,
   "metadata": {},
   "outputs": [],
   "source": []
  }
 ],
 "metadata": {
  "kernelspec": {
   "display_name": "base",
   "language": "python",
   "name": "python3"
  },
  "language_info": {
   "codemirror_mode": {
    "name": "ipython",
    "version": 3
   },
   "file_extension": ".py",
   "mimetype": "text/x-python",
   "name": "python",
   "nbconvert_exporter": "python",
   "pygments_lexer": "ipython3",
   "version": "3.11.9"
  }
 },
 "nbformat": 4,
 "nbformat_minor": 2
}
